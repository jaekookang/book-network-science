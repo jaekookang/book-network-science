{
 "cells": [
  {
   "cell_type": "markdown",
   "id": "cd9c4c50-1069-42aa-bafe-6a99711253fe",
   "metadata": {},
   "source": [
    "# 01 Network Elements: Notes\n",
    "\n",
    "---\n",
    "- 2023-01-23 jkang first created"
   ]
  },
  {
   "cell_type": "markdown",
   "id": "f903bf31-827d-4626-991e-4411efa414cc",
   "metadata": {},
   "source": [
    "## Network (네트워크)\n",
    "- a group, chain or system of inter-connected entities"
   ]
  },
  {
   "cell_type": "markdown",
   "id": "b6051e51-d101-4e47-b8e9-250922729b64",
   "metadata": {},
   "source": [
    "* **node**: anything that can be part of a system of interest\n",
    "    - e.g., city, person, computer, website, concept etc.\n",
    "* **link**: connection between nodes\n",
    "    - e.g., friendship, communication, packet interaction, webpage links, neuronal connections etc."
   ]
  },
  {
   "cell_type": "markdown",
   "id": "5e7a8247-2373-4ffb-871c-5e2663cdcac2",
   "metadata": {},
   "source": [
    "* A network (G) has two elements: \"nodes\" and \"edges\"\n",
    "    - There are N nodes\n",
    "    - L links connects nodes\n",
    "    - $Link_{(i,j)}$ connects $node_{i}$ and $node_{j}$"
   ]
  },
  {
   "cell_type": "markdown",
   "id": "c19f1592-2b10-4017-8006-07863c1ae313",
   "metadata": {},
   "source": [
    "* Directed network (방향성 네트워크): $Link_{(i,j)}$\n",
    "* Weighted network (가중치 네트워크): $Link_{(i,j,w)}$ where w indicates a weight\n",
    "* Bipartite network (이분 네트워크): e.g., a network in which actors and movies are separate nodes so that they are connected, but actors or movies themselves are not connected"
   ]
  },
  {
   "cell_type": "markdown",
   "id": "de335ab9-68da-46f3-9161-7e41d4f3ee0f",
   "metadata": {},
   "source": [
    "## Network Density and Sparsity (조밀도와 성김도)"
   ]
  },
  {
   "cell_type": "markdown",
   "id": "9623e5c0-4b8d-4b14-8f35-8b9cc1363bd2",
   "metadata": {},
   "source": [
    "* complete network (완전 네트워크): a network in which all nodes are connected to all the other nodes"
   ]
  },
  {
   "cell_type": "markdown",
   "id": "58af6f4a-e8e2-4b49-b8f2-1fa8592fe00e",
   "metadata": {},
   "source": [
    "* (1.1) maximum number of links (최대 가능 링크 수)\n",
    "    - For undirected networks:\n",
    "    \n",
    "        $\n",
    "        L_{max} = \\begin{pmatrix} N\\\\ 2\\\\ \\end{pmatrix}\n",
    "        = \\frac{N(N-1)}{2}\n",
    "        $\n",
    "        \n",
    "    - For directed networks:\n",
    "        \n",
    "        $\n",
    "        L_{max} = 2 * \\begin{pmatrix} N\\\\ 2\\\\ \\end{pmatrix}\n",
    "        = N(N-1)\n",
    "        $ -> due to the both-way directions count\n",
    "      "
   ]
  },
  {
   "cell_type": "markdown",
   "id": "0a5c6d30-5e3b-49a6-855d-aa40c9e5f12d",
   "metadata": {},
   "source": [
    "* **density** (d): ratio of number of links to maximum possible links\n",
    "\n",
    "    $ d = \\frac{L}{L_{max}} $\n",
    "    \n",
    "    * For undirected networks (방향성 없는 네트워크):\n",
    "\n",
    "        $ d = \\frac{L}{L_{max}} = \\frac{2L}{N(N-1)} $\n",
    "\n",
    "    * For directed networks (방향성 네트워크):\n",
    "\n",
    "        $ d = \\frac{L}{L_{max}} = \\frac{L}{N(N-1)}$"
   ]
  },
  {
   "cell_type": "markdown",
   "id": "9a1ceb42-26d5-4c96-8391-da9df7510473",
   "metadata": {},
   "source": [
    "* Complete networks have density equal to 1 ($d=1$)\n",
    "\n",
    "* Sparse networks have density is generally smaller than 1 ($d<<1$)"
   ]
  },
  {
   "cell_type": "markdown",
   "id": "397e9944-a239-43c8-b5ea-af48f789ef2e",
   "metadata": {},
   "source": [
    "## Subnetworks"
   ]
  },
  {
   "cell_type": "markdown",
   "id": "2f207b12-c214-40fb-b962-1814588f3da8",
   "metadata": {},
   "source": [
    "* Subnetwork or subgraph\n",
    "\n",
    "* Clique: complete subnetwork where all nodes in the subnetwork are connected\n",
    "\n",
    "* ego network: a subnetwork where ego and other nodes are connected as in social networks\n",
    "\n",
    "* singleton: a node without any neighbors (no connection)"
   ]
  },
  {
   "cell_type": "markdown",
   "id": "7089a248-aa2b-47be-b0c8-c6cd048ace9b",
   "metadata": {},
   "source": [
    "## Number of links"
   ]
  },
  {
   "cell_type": "markdown",
   "id": "df34701a-1d1d-4666-9cbc-f0f403a744dc",
   "metadata": {},
   "source": [
    "* Average number of links $<k>$\n",
    "\n",
    "    $\n",
    "    <k> = \\frac{\\sum_{i}{k_i}}{N}\n",
    "    $ &nbsp;&nbsp;&nbsp;&nbsp; -> sum of all node connections over number of nodes in the network\n",
    "    \n",
    "    $\n",
    "    <k>_{max} = N - 1\n",
    "    $ &nbsp;&nbsp;&nbsp;&nbsp; -> maximum number of average node connections"
   ]
  },
  {
   "cell_type": "markdown",
   "id": "f40260a6-a39a-4d78-91cd-62d553ff9a9b",
   "metadata": {},
   "source": [
    "* For undirected networks (방향성 없는 네트워크):\n",
    "\n",
    "    $\n",
    "    <k> = \\frac{2L}{N} = \\frac{dN(n-1)}{N} = d(N-1)\n",
    "    $\n",
    "\n",
    "* For directed networks (방향성 네트워크):\n",
    "    \n",
    "    $\n",
    "    <k> = \\frac{L}{N} = \\frac{dN(n-1)}{N} = d(N-1)\n",
    "    $"
   ]
  },
  {
   "cell_type": "markdown",
   "id": "c93bbbbb-fe7a-4a45-b86c-238c033ed9c1",
   "metadata": {},
   "source": [
    "* Density (derived):\n",
    "    \n",
    "    $\n",
    "    d = \\frac{<k>}{N-1}\n",
    "    $  -> average connections over maximum connections"
   ]
  },
  {
   "cell_type": "markdown",
   "id": "27aec7b6-bb46-435f-859e-31889ec96c98",
   "metadata": {},
   "source": [
    "## Weighted networks"
   ]
  },
  {
   "cell_type": "markdown",
   "id": "b6d36778-774f-4293-9c19-7630cedc03c8",
   "metadata": {},
   "source": [
    "* strength: weighted degree of links\n",
    "\n",
    "    - in-strength to a $i$th node:\n",
    "    \n",
    "        $\n",
    "        s_{i}^{in} = \\sum_{j}{w_{ij}}\n",
    "        $\n",
    "        \n",
    "    - out-strength to a $i$th node:\n",
    "    \n",
    "        $\n",
    "        s_{i}^{out} = \\sum_{j}{w_{ij}}\n",
    "        $"
   ]
  },
  {
   "cell_type": "markdown",
   "id": "307c100b-ec86-4c40-917a-7f19931a6d6b",
   "metadata": {},
   "source": [
    "## Multilayer networks"
   ]
  },
  {
   "cell_type": "markdown",
   "id": "11e7f676-3225-4452-a08f-b6e8fcf0eb4e",
   "metadata": {},
   "source": [
    "* intralayer link\n",
    "* interlayer link\n",
    "* coupling: the same copy of nodes from a layer to another layer"
   ]
  },
  {
   "cell_type": "markdown",
   "id": "4adeed1e-b514-4c2b-a969-4ed1c2502345",
   "metadata": {},
   "source": [
    "## Network representation"
   ]
  },
  {
   "cell_type": "markdown",
   "id": "1aa9d8bf-794e-4d2a-b06d-2391bd9b456f",
   "metadata": {},
   "source": [
    "* Adjacency matrix: a matrix element $a_{ij}$ indicates a link between $i$ and $j$. \n",
    "* When $i$ and $j$ is adjancent, $a_{ij}=1$, otherwise it's $a_{ij}=0$ "
   ]
  },
  {
   "cell_type": "markdown",
   "id": "f267e739-b746-4726-b8c2-9e3ef35603ce",
   "metadata": {},
   "source": [
    "* \"adjacency list\" method: a method of writing only neighbors for a given node\n",
    "    * e.g., node=1, 3 4 5\n",
    "* \"edge list\" method: a method of writing connected nodes\n",
    "    * e.g., 1 3 \\\\n 1 4\n",
    "    \n",
    "=> These methods are more efficient than the sparse matrix representation when the network is too sparse"
   ]
  }
 ],
 "metadata": {
  "kernelspec": {
   "display_name": "Python 3 (ipykernel)",
   "language": "python",
   "name": "python3"
  },
  "language_info": {
   "codemirror_mode": {
    "name": "ipython",
    "version": 3
   },
   "file_extension": ".py",
   "mimetype": "text/x-python",
   "name": "python",
   "nbconvert_exporter": "python",
   "pygments_lexer": "ipython3",
   "version": "3.9.13"
  }
 },
 "nbformat": 4,
 "nbformat_minor": 5
}
