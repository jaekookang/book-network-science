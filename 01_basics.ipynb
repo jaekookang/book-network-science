{
 "cells": [
  {
   "cell_type": "markdown",
   "id": "c083e937-9d3b-4468-8df6-338ab99c791d",
   "metadata": {},
   "source": [
    "# Basic tools\n",
    "\n",
    "---\n",
    "- 2023-01-01 jkang first created"
   ]
  },
  {
   "cell_type": "code",
   "execution_count": 1,
   "id": "b9d70461-9176-4c2e-b0d7-f9217af653fc",
   "metadata": {},
   "outputs": [],
   "source": [
    "import networkx as nx"
   ]
  },
  {
   "cell_type": "code",
   "execution_count": 2,
   "id": "53f1dd33-a725-49f5-aef5-7f79264788e5",
   "metadata": {},
   "outputs": [],
   "source": [
    "G = nx.Graph()\n",
    "G.add_node(1)\n",
    "G.add_node(2)\n",
    "G.add_edge(1, 2)"
   ]
  },
  {
   "cell_type": "code",
   "execution_count": 3,
   "id": "cf91cb4e-2fd2-4e3a-a716-5643143d6a1a",
   "metadata": {},
   "outputs": [
    {
     "data": {
      "text/plain": [
       "NodeView((1, 2))"
      ]
     },
     "execution_count": 3,
     "metadata": {},
     "output_type": "execute_result"
    }
   ],
   "source": [
    "G.nodes()"
   ]
  },
  {
   "cell_type": "code",
   "execution_count": 4,
   "id": "9decb60b-4bb7-41f2-b20f-757b920dfe2b",
   "metadata": {},
   "outputs": [
    {
     "data": {
      "text/plain": [
       "EdgeView([(1, 2)])"
      ]
     },
     "execution_count": 4,
     "metadata": {},
     "output_type": "execute_result"
    }
   ],
   "source": [
    "G.edges()"
   ]
  },
  {
   "cell_type": "code",
   "execution_count": 13,
   "id": "05bc6af3-6042-4cb3-a435-39e88162094f",
   "metadata": {},
   "outputs": [
    {
     "name": "stdout",
     "output_type": "stream",
     "text": [
      "1\n"
     ]
    }
   ],
   "source": [
    "for n in G.neighbors(2):\n",
    "    print(n)"
   ]
  },
  {
   "cell_type": "code",
   "execution_count": 8,
   "id": "75aebe90-5d44-4957-8657-a1c82bd89292",
   "metadata": {},
   "outputs": [
    {
     "name": "stdout",
     "output_type": "stream",
     "text": [
      "1 <dict_keyiterator object at 0x7efd871ef9f0>\n",
      "2 <dict_keyiterator object at 0x7efd871ef9f0>\n"
     ]
    }
   ],
   "source": [
    "for n in G.nodes:\n",
    "    print(n, G.neighbors(n))"
   ]
  },
  {
   "cell_type": "code",
   "execution_count": 14,
   "id": "d793b5cf-f672-49d3-8d19-f4cf9f1ffe6e",
   "metadata": {},
   "outputs": [],
   "source": [
    "D = nx.DiGraph()\n",
    "D.add_edge(1, 2)\n",
    "D.add_edge(2, 1)"
   ]
  },
  {
   "cell_type": "code",
   "execution_count": 15,
   "id": "8cfa8335-b97a-488a-877c-067b914f300d",
   "metadata": {},
   "outputs": [
    {
     "data": {
      "text/plain": [
       "2"
      ]
     },
     "execution_count": 15,
     "metadata": {},
     "output_type": "execute_result"
    }
   ],
   "source": [
    "D.number_of_nodes()"
   ]
  },
  {
   "cell_type": "code",
   "execution_count": 16,
   "id": "d7a4ad62-22d5-4719-959e-feb06bb8e7c1",
   "metadata": {},
   "outputs": [
    {
     "data": {
      "text/plain": [
       "2"
      ]
     },
     "execution_count": 16,
     "metadata": {},
     "output_type": "execute_result"
    }
   ],
   "source": [
    "D.number_of_edges()"
   ]
  },
  {
   "cell_type": "code",
   "execution_count": 17,
   "id": "66f8e9a8-f2e9-40a2-8eba-db21d87393ff",
   "metadata": {},
   "outputs": [
    {
     "data": {
      "text/plain": [
       "<dict_keyiterator at 0x7efd869b1ea0>"
      ]
     },
     "execution_count": 17,
     "metadata": {},
     "output_type": "execute_result"
    }
   ],
   "source": [
    "D.neighbors(2)"
   ]
  },
  {
   "cell_type": "code",
   "execution_count": 21,
   "id": "9e58260f-d1e7-4713-90cd-2169ee5c2e01",
   "metadata": {},
   "outputs": [
    {
     "name": "stdout",
     "output_type": "stream",
     "text": [
      "1\n"
     ]
    }
   ],
   "source": [
    "for n in D.predecessors(2):\n",
    "    print(n)"
   ]
  },
  {
   "cell_type": "code",
   "execution_count": 20,
   "id": "37ddf55c-4387-4fad-8b02-2c4009066161",
   "metadata": {},
   "outputs": [
    {
     "name": "stdout",
     "output_type": "stream",
     "text": [
      "1\n"
     ]
    }
   ],
   "source": [
    "for n in D.successors(2):\n",
    "    print(n)"
   ]
  },
  {
   "cell_type": "code",
   "execution_count": 23,
   "id": "0fab0fc9-8812-4344-b86d-24920fcd20e8",
   "metadata": {},
   "outputs": [],
   "source": [
    "B = nx.complete_bipartite_graph(4, 5)\n",
    "C = nx.cycle_graph(4)\n",
    "P = nx.path_graph(5)\n",
    "S = nx.star_graph(6)"
   ]
  },
  {
   "cell_type": "code",
   "execution_count": 25,
   "id": "a4170fce-21c8-4c57-bcbd-fe2c5a0ca43c",
   "metadata": {},
   "outputs": [
    {
     "data": {
      "text/plain": [
       "1.0"
      ]
     },
     "execution_count": 25,
     "metadata": {},
     "output_type": "execute_result"
    }
   ],
   "source": [
    "nx.density(G)"
   ]
  },
  {
   "cell_type": "code",
   "execution_count": 26,
   "id": "dd7d020e-01ae-43ae-8570-d651e1e4b547",
   "metadata": {},
   "outputs": [
    {
     "data": {
      "text/plain": [
       "1.0"
      ]
     },
     "execution_count": 26,
     "metadata": {},
     "output_type": "execute_result"
    }
   ],
   "source": [
    "nx.density(D)"
   ]
  },
  {
   "cell_type": "code",
   "execution_count": 27,
   "id": "92f06f82-cee9-4623-990e-65a6c49e5d23",
   "metadata": {},
   "outputs": [],
   "source": [
    "CG = nx.complete_graph(8471)"
   ]
  },
  {
   "cell_type": "code",
   "execution_count": 28,
   "id": "ec88e05e-c3f0-4cf7-956f-56513270abcb",
   "metadata": {},
   "outputs": [
    {
     "name": "stdout",
     "output_type": "stream",
     "text": [
      "1.0\n"
     ]
    }
   ],
   "source": [
    "print(nx.density(CG))"
   ]
  },
  {
   "cell_type": "code",
   "execution_count": null,
   "id": "93d27fb9-e23a-4458-8ac8-560044ab138d",
   "metadata": {},
   "outputs": [],
   "source": []
  },
  {
   "cell_type": "code",
   "execution_count": null,
   "id": "54b73bb8-4617-481f-8f7e-69f3c6016c9c",
   "metadata": {},
   "outputs": [],
   "source": []
  },
  {
   "cell_type": "code",
   "execution_count": null,
   "id": "8f74effe-398e-4198-9836-e9c340724036",
   "metadata": {},
   "outputs": [],
   "source": []
  },
  {
   "cell_type": "code",
   "execution_count": null,
   "id": "f4e00990-c275-4c41-bb2a-ddfb201ffb92",
   "metadata": {},
   "outputs": [],
   "source": []
  }
 ],
 "metadata": {
  "kernelspec": {
   "display_name": "Python 3 (ipykernel)",
   "language": "python",
   "name": "python3"
  },
  "language_info": {
   "codemirror_mode": {
    "name": "ipython",
    "version": 3
   },
   "file_extension": ".py",
   "mimetype": "text/x-python",
   "name": "python",
   "nbconvert_exporter": "python",
   "pygments_lexer": "ipython3",
   "version": "3.9.12"
  }
 },
 "nbformat": 4,
 "nbformat_minor": 5
}
