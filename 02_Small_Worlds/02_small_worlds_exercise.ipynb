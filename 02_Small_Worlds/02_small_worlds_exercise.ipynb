{
 "cells": [
  {
   "cell_type": "markdown",
   "id": "393fb867-3eb4-435b-94c9-4fe648d64d87",
   "metadata": {},
   "source": [
    "# 02 Small Worlds: Exercise\n",
    "\n",
    "---\n",
    "- 2023-01-23 jkang first created"
   ]
  },
  {
   "cell_type": "code",
   "execution_count": null,
   "id": "c2798a1d-bfe9-43cb-8124-8c80427b835d",
   "metadata": {},
   "outputs": [],
   "source": []
  },
  {
   "cell_type": "code",
   "execution_count": null,
   "id": "fe735834-b6c6-4f25-b577-b2d08dcba765",
   "metadata": {},
   "outputs": [],
   "source": []
  },
  {
   "cell_type": "code",
   "execution_count": null,
   "id": "701e22b1-09a6-451b-ba9b-621a831f29c8",
   "metadata": {},
   "outputs": [],
   "source": []
  },
  {
   "cell_type": "code",
   "execution_count": null,
   "id": "a42f0d2e-d33a-488b-a8b1-d6cf2ec9ee93",
   "metadata": {},
   "outputs": [],
   "source": []
  },
  {
   "cell_type": "code",
   "execution_count": null,
   "id": "e95bcef3-b8fa-49f2-b852-3388b0247537",
   "metadata": {},
   "outputs": [],
   "source": []
  },
  {
   "cell_type": "code",
   "execution_count": null,
   "id": "a22da274-d14f-48f1-9af2-08d19e32386b",
   "metadata": {},
   "outputs": [],
   "source": []
  },
  {
   "cell_type": "code",
   "execution_count": null,
   "id": "e34546d3-e948-4565-870c-145556f7656c",
   "metadata": {},
   "outputs": [],
   "source": []
  },
  {
   "cell_type": "code",
   "execution_count": null,
   "id": "009874d2-4908-4b69-af6c-e69ec234a43f",
   "metadata": {},
   "outputs": [],
   "source": []
  },
  {
   "cell_type": "code",
   "execution_count": null,
   "id": "37a99e50-e5b2-465a-9561-6a0d80cd12f7",
   "metadata": {},
   "outputs": [],
   "source": []
  },
  {
   "cell_type": "code",
   "execution_count": null,
   "id": "779d8361-ecfe-4ea9-a98b-f63f9964ea93",
   "metadata": {},
   "outputs": [],
   "source": []
  },
  {
   "cell_type": "code",
   "execution_count": null,
   "id": "51d0d58b-0518-4473-9986-e02f7ea33e53",
   "metadata": {},
   "outputs": [],
   "source": []
  },
  {
   "cell_type": "code",
   "execution_count": null,
   "id": "c7d262d5-2c1a-4ea4-bdeb-b2a785c07a3b",
   "metadata": {},
   "outputs": [],
   "source": []
  }
 ],
 "metadata": {
  "kernelspec": {
   "display_name": "Python 3 (ipykernel)",
   "language": "python",
   "name": "python3"
  },
  "language_info": {
   "codemirror_mode": {
    "name": "ipython",
    "version": 3
   },
   "file_extension": ".py",
   "mimetype": "text/x-python",
   "name": "python",
   "nbconvert_exporter": "python",
   "pygments_lexer": "ipython3",
   "version": "3.9.13"
  }
 },
 "nbformat": 4,
 "nbformat_minor": 5
}
